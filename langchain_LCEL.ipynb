{
 "cells": [
  {
   "cell_type": "markdown",
   "metadata": {},
   "source": [
    "## SIMPLE CHAIN (old concept)"
   ]
  },
  {
   "cell_type": "code",
   "execution_count": 2,
   "metadata": {},
   "outputs": [],
   "source": [
    "from dotenv import load_dotenv"
   ]
  },
  {
   "cell_type": "code",
   "execution_count": 3,
   "metadata": {},
   "outputs": [
    {
     "data": {
      "text/plain": [
       "True"
      ]
     },
     "execution_count": 3,
     "metadata": {},
     "output_type": "execute_result"
    }
   ],
   "source": [
    "load_dotenv()"
   ]
  },
  {
   "cell_type": "code",
   "execution_count": 4,
   "metadata": {},
   "outputs": [],
   "source": [
    "import os\n",
    "GOOGLE_API_KEY = os.getenv('GOOGLE_API_KEY')\n",
    "os.environ['GOOGLE_API_KEY'] = GOOGLE_API_KEY"
   ]
  },
  {
   "cell_type": "code",
   "execution_count": 5,
   "metadata": {},
   "outputs": [
    {
     "name": "stderr",
     "output_type": "stream",
     "text": [
      "e:\\langchain\\myenv\\lib\\site-packages\\tqdm\\auto.py:21: TqdmWarning: IProgress not found. Please update jupyter and ipywidgets. See https://ipywidgets.readthedocs.io/en/stable/user_install.html\n",
      "  from .autonotebook import tqdm as notebook_tqdm\n"
     ]
    }
   ],
   "source": [
    "from langchain_google_genai import ChatGoogleGenerativeAI, GoogleGenerativeAIEmbeddings"
   ]
  },
  {
   "cell_type": "code",
   "execution_count": 6,
   "metadata": {},
   "outputs": [],
   "source": [
    "embedding = GoogleGenerativeAIEmbeddings(model = \"models/embedding-001\")\n",
    "llm = ChatGoogleGenerativeAI(model = \"gemini-1.0-pro\")"
   ]
  },
  {
   "cell_type": "code",
   "execution_count": 7,
   "metadata": {},
   "outputs": [],
   "source": [
    "from langchain import PromptTemplate"
   ]
  },
  {
   "cell_type": "code",
   "execution_count": 8,
   "metadata": {},
   "outputs": [],
   "source": [
    "template = \"Hi! I am learning {skill}, can you suggest me top 5 thing to learn?\\n\"\n",
    "prompt = PromptTemplate(template = template,input_variables=[\"skill\"])"
   ]
  },
  {
   "cell_type": "code",
   "execution_count": 9,
   "metadata": {},
   "outputs": [
    {
     "name": "stdout",
     "output_type": "stream",
     "text": [
      "input_variables=['skill'] input_types={} partial_variables={} template='Hi! I am learning {skill}, can you suggest me top 5 thing to learn?\\n'\n"
     ]
    }
   ],
   "source": [
    "print(prompt)"
   ]
  },
  {
   "cell_type": "code",
   "execution_count": 10,
   "metadata": {},
   "outputs": [],
   "source": [
    "from langchain import LLMChain"
   ]
  },
  {
   "cell_type": "code",
   "execution_count": 11,
   "metadata": {},
   "outputs": [
    {
     "name": "stderr",
     "output_type": "stream",
     "text": [
      "C:\\Users\\Asus\\AppData\\Local\\Temp\\ipykernel_10220\\2214571769.py:1: LangChainDeprecationWarning: The class `LLMChain` was deprecated in LangChain 0.1.17 and will be removed in 1.0. Use :meth:`~RunnableSequence, e.g., `prompt | llm`` instead.\n",
      "  llm_chain = LLMChain(llm = llm,prompt = prompt)\n"
     ]
    }
   ],
   "source": [
    "llm_chain = LLMChain(llm = llm,prompt = prompt)"
   ]
  },
  {
   "cell_type": "code",
   "execution_count": 12,
   "metadata": {},
   "outputs": [
    {
     "name": "stderr",
     "output_type": "stream",
     "text": [
      "C:\\Users\\Asus\\AppData\\Local\\Temp\\ipykernel_10220\\1988409311.py:1: LangChainDeprecationWarning: The method `Chain.run` was deprecated in langchain 0.1.0 and will be removed in 1.0. Use :meth:`~invoke` instead.\n",
      "  print(llm_chain.run(\"Machine Learning\"))\n"
     ]
    },
    {
     "name": "stdout",
     "output_type": "stream",
     "text": [
      "**Top 5 Essential Concepts in Machine Learning:**\n",
      "\n",
      "1. **Supervised Learning:** Understanding how to train models using labeled data to predict outcomes.\n",
      "2. **Unsupervised Learning:** Exploring techniques for finding patterns and structures in unlabeled data.\n",
      "3. **Feature Engineering:** Mastering the art of selecting and transforming raw data into meaningful features for model training.\n",
      "4. **Model Evaluation:** Learning how to assess the performance of machine learning models using metrics like accuracy, recall, and precision.\n",
      "5. **Optimization Techniques:** Familiarizing yourself with algorithms like gradient descent and backpropagation for optimizing model parameters.\n"
     ]
    }
   ],
   "source": [
    "print(llm_chain.run(\"Machine Learning\"))"
   ]
  },
  {
   "cell_type": "code",
   "execution_count": 13,
   "metadata": {},
   "outputs": [
    {
     "name": "stdout",
     "output_type": "stream",
     "text": [
      "**Top 5 Essentials for Data Science Learning:**\n",
      "\n",
      "1. **Programming Language:** Python or R are industry-standard languages for data science. Master their data manipulation, visualization, and machine learning capabilities.\n",
      "\n",
      "2. **Mathematics and Statistics:** Linear algebra, calculus, probability, and statistics form the foundation for understanding data modeling and analysis.\n",
      "\n",
      "3. **Data Manipulation and Cleaning:** Learn techniques for importing, cleaning, and preprocessing data to ensure its accuracy and usability for analysis.\n",
      "\n",
      "4. **Machine Learning Algorithms:** Understand the principles and implementation of supervised and unsupervised machine learning algorithms, including linear regression, decision trees, and clustering.\n",
      "\n",
      "5. **Data Visualization:** Develop strong visualization skills to effectively communicate insights and patterns from data. Tools like Matplotlib, Seaborn, and Tableau are essential for creating clear and informative visualizations.\n"
     ]
    }
   ],
   "source": [
    "print(llm_chain.run({\"skill\":\"Data Science\"}))"
   ]
  },
  {
   "cell_type": "code",
   "execution_count": 14,
   "metadata": {},
   "outputs": [],
   "source": [
    "#Using LCEL\n",
    "chain = prompt | llm"
   ]
  },
  {
   "cell_type": "code",
   "execution_count": 15,
   "metadata": {},
   "outputs": [
    {
     "data": {
      "text/plain": [
       "AIMessage(content='**Top 5 Things to Learn for Machine Learning**\\n\\n1. **Linear Algebra and Calculus:** These mathematical foundations are essential for understanding the underlying principles and algorithms in machine learning.\\n\\n2. **Probability and Statistics:** Probability theory and statistical concepts are crucial for handling uncertainty, data modeling, and making predictions.\\n\\n3. **Machine Learning Algorithms:** Master core algorithms like linear regression, logistic regression, decision trees, and support vector machines. Understand their strengths, weaknesses, and applications.\\n\\n4. **Data Preprocessing and Feature Engineering:** Learn techniques for cleaning, transforming, and selecting relevant features from raw data to improve model performance.\\n\\n5. **Model Evaluation and Performance Metrics:** Understand how to evaluate the accuracy, precision, and other metrics of machine learning models to assess their effectiveness and optimize parameters.', additional_kwargs={}, response_metadata={'prompt_feedback': {'block_reason': 0, 'safety_ratings': []}, 'finish_reason': 'STOP', 'safety_ratings': [{'category': 'HARM_CATEGORY_SEXUALLY_EXPLICIT', 'probability': 'NEGLIGIBLE', 'blocked': False}, {'category': 'HARM_CATEGORY_HATE_SPEECH', 'probability': 'NEGLIGIBLE', 'blocked': False}, {'category': 'HARM_CATEGORY_HARASSMENT', 'probability': 'NEGLIGIBLE', 'blocked': False}, {'category': 'HARM_CATEGORY_DANGEROUS_CONTENT', 'probability': 'NEGLIGIBLE', 'blocked': False}]}, id='run-76b2cdc0-a22c-4d83-9c0d-612eb2286d56-0', usage_metadata={'input_tokens': 21, 'output_tokens': 161, 'total_tokens': 182, 'input_token_details': {'cache_read': 0}})"
      ]
     },
     "execution_count": 15,
     "metadata": {},
     "output_type": "execute_result"
    }
   ],
   "source": [
    "chain.invoke(\"Machine Learning\")"
   ]
  },
  {
   "cell_type": "code",
   "execution_count": 16,
   "metadata": {},
   "outputs": [],
   "source": [
    "from langchain_core.output_parsers import StrOutputParser"
   ]
  },
  {
   "cell_type": "code",
   "execution_count": 17,
   "metadata": {},
   "outputs": [],
   "source": [
    "parser = StrOutputParser()"
   ]
  },
  {
   "cell_type": "code",
   "execution_count": 18,
   "metadata": {},
   "outputs": [],
   "source": [
    "chain = prompt | llm | parser"
   ]
  },
  {
   "cell_type": "code",
   "execution_count": 19,
   "metadata": {},
   "outputs": [
    {
     "data": {
      "text/plain": [
       "'**Top 5 Essential Concepts for Machine Learning:**\\n\\n1. **Supervised Learning:** Understanding how models learn from labeled data to predict future outcomes.\\n2. **Unsupervised Learning:** Exploring techniques that identify patterns and structures in unlabeled data.\\n3. **Model Evaluation and Selection:** Learning methods to assess model performance and select the best model for a given task.\\n4. **Feature Engineering:** Transforming raw data into features that are informative and suitable for machine learning models.\\n5. **Machine Learning Algorithms:** Understanding the fundamental algorithms used in machine learning, such as linear regression, decision trees, and neural networks.'"
      ]
     },
     "execution_count": 19,
     "metadata": {},
     "output_type": "execute_result"
    }
   ],
   "source": [
    "chain.invoke({\"skill\":\"Machine Learning\"})"
   ]
  },
  {
   "cell_type": "markdown",
   "metadata": {},
   "source": [
    "### Runnables"
   ]
  },
  {
   "cell_type": "code",
   "execution_count": 20,
   "metadata": {},
   "outputs": [],
   "source": [
    "from langchain_core.runnables import RunnableParallel, RunnablePassthrough, RunnableLambda"
   ]
  },
  {
   "cell_type": "code",
   "execution_count": 21,
   "metadata": {},
   "outputs": [],
   "source": [
    "chain = RunnablePassthrough()"
   ]
  },
  {
   "cell_type": "code",
   "execution_count": 22,
   "metadata": {},
   "outputs": [
    {
     "data": {
      "text/plain": [
       "'Welcome to the youtube channel'"
      ]
     },
     "execution_count": 22,
     "metadata": {},
     "output_type": "execute_result"
    }
   ],
   "source": [
    "chain.invoke(\"Welcome to the youtube channel\")"
   ]
  },
  {
   "cell_type": "code",
   "execution_count": 23,
   "metadata": {},
   "outputs": [],
   "source": [
    "def string_upper(input):\n",
    "    return input.upper()"
   ]
  },
  {
   "cell_type": "code",
   "execution_count": 24,
   "metadata": {},
   "outputs": [],
   "source": [
    "chain = RunnablePassthrough() | RunnableLambda(string_upper)"
   ]
  },
  {
   "cell_type": "code",
   "execution_count": 25,
   "metadata": {},
   "outputs": [
    {
     "data": {
      "text/plain": [
       "'WELCOME TO MY YOUTUBE CHANNEL'"
      ]
     },
     "execution_count": 25,
     "metadata": {},
     "output_type": "execute_result"
    }
   ],
   "source": [
    "# in above chain runnablepassthrough accept the input and runnablelambda perform the job on it.\n",
    "chain.invoke(\"Welcome to my youtube channel\")"
   ]
  },
  {
   "cell_type": "code",
   "execution_count": 26,
   "metadata": {},
   "outputs": [],
   "source": [
    "chain = RunnableParallel({'x':RunnablePassthrough(),'y':RunnablePassthrough()})"
   ]
  },
  {
   "cell_type": "code",
   "execution_count": 27,
   "metadata": {},
   "outputs": [
    {
     "data": {
      "text/plain": [
       "{'x': 'Shoaib', 'y': 'Shoaib'}"
      ]
     },
     "execution_count": 27,
     "metadata": {},
     "output_type": "execute_result"
    }
   ],
   "source": [
    "chain.invoke(\"Shoaib\")"
   ]
  },
  {
   "cell_type": "code",
   "execution_count": null,
   "metadata": {},
   "outputs": [
    {
     "data": {
      "text/plain": [
       "{'x': {'name': 'Shoaib', 'company': 'nagarro'},\n",
       " 'y': {'name': 'Shoaib', 'company': 'nagarro'}}"
      ]
     },
     "execution_count": 29,
     "metadata": {},
     "output_type": "execute_result"
    }
   ],
   "source": [
    "#this gives the same in x and y bz we have use the runnablepassthrough in both\n",
    "chain.invoke({\"name\":\"Shoaib\",\"company\":\"nagarro\"})"
   ]
  },
  {
   "cell_type": "code",
   "execution_count": 30,
   "metadata": {},
   "outputs": [],
   "source": [
    "chain = RunnableParallel({'x':RunnablePassthrough(),'Blog':lambda x:x['Blog']})"
   ]
  },
  {
   "cell_type": "code",
   "execution_count": 31,
   "metadata": {},
   "outputs": [
    {
     "data": {
      "text/plain": [
       "{'x': {'Youtube': '@shoaibmohd', 'Blog': 'Shoaib\"s Blog'},\n",
       " 'Blog': 'Shoaib\"s Blog'}"
      ]
     },
     "execution_count": 31,
     "metadata": {},
     "output_type": "execute_result"
    }
   ],
   "source": [
    "chain.invoke({'Youtube':'@shoaibmohd','Blog':'Shoaib\"s Blog'})"
   ]
  },
  {
   "cell_type": "code",
   "execution_count": 32,
   "metadata": {},
   "outputs": [],
   "source": [
    "def fetch_website(input:dict):\n",
    "    result = input.get('Website','NOT FOUND')\n",
    "    return result"
   ]
  },
  {
   "cell_type": "code",
   "execution_count": 33,
   "metadata": {},
   "outputs": [],
   "source": [
    "chain = RunnableParallel({'Website':RunnablePassthrough() | RunnableLambda(fetch_website),'Blog':lambda x:x['Blog']})"
   ]
  },
  {
   "cell_type": "code",
   "execution_count": 34,
   "metadata": {},
   "outputs": [
    {
     "data": {
      "text/plain": [
       "{'Website': 'NOT FOUND', 'Blog': 'Shoaib\"s Blog'}"
      ]
     },
     "execution_count": 34,
     "metadata": {},
     "output_type": "execute_result"
    }
   ],
   "source": [
    "chain.invoke({'Youtube':'@shoaibmohd','Blog':'Shoaib\"s Blog'})"
   ]
  },
  {
   "cell_type": "code",
   "execution_count": 35,
   "metadata": {},
   "outputs": [
    {
     "data": {
      "text/plain": [
       "{'Website': 'shoaibmohd.com', 'Blog': 'Shoaib\"s Blog'}"
      ]
     },
     "execution_count": 35,
     "metadata": {},
     "output_type": "execute_result"
    }
   ],
   "source": [
    "chain.invoke({'Youtube':'@shoaibmohd','Blog':'Shoaib\"s Blog','Website':'shoaibmohd.com'})"
   ]
  },
  {
   "cell_type": "code",
   "execution_count": 36,
   "metadata": {},
   "outputs": [],
   "source": [
    "# Instead of pipe operator we can also use the assign function\n",
    "def extra_func(input):\n",
    "    return \"Happy Learning\""
   ]
  },
  {
   "cell_type": "code",
   "execution_count": 37,
   "metadata": {},
   "outputs": [],
   "source": [
    "chain = RunnableParallel({'x':RunnablePassthrough()}).assign(extra = RunnableLambda(extra_func))"
   ]
  },
  {
   "cell_type": "code",
   "execution_count": 38,
   "metadata": {},
   "outputs": [
    {
     "data": {
      "text/plain": [
       "{'x': 'hello', 'extra': 'Happy Learning'}"
      ]
     },
     "execution_count": 38,
     "metadata": {},
     "output_type": "execute_result"
    }
   ],
   "source": [
    "chain.invoke(\"hello\")"
   ]
  },
  {
   "cell_type": "code",
   "execution_count": null,
   "metadata": {},
   "outputs": [],
   "source": []
  }
 ],
 "metadata": {
  "kernelspec": {
   "display_name": "myenv",
   "language": "python",
   "name": "python3"
  },
  "language_info": {
   "codemirror_mode": {
    "name": "ipython",
    "version": 3
   },
   "file_extension": ".py",
   "mimetype": "text/x-python",
   "name": "python",
   "nbconvert_exporter": "python",
   "pygments_lexer": "ipython3",
   "version": "3.10.9"
  }
 },
 "nbformat": 4,
 "nbformat_minor": 2
}
