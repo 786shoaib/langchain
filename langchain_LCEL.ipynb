{
 "cells": [
  {
   "cell_type": "markdown",
   "metadata": {},
   "source": [
    "## SIMPLE CHAIN (old concept)"
   ]
  },
  {
   "cell_type": "code",
   "execution_count": 1,
   "metadata": {},
   "outputs": [],
   "source": [
    "from dotenv import load_dotenv"
   ]
  },
  {
   "cell_type": "code",
   "execution_count": 2,
   "metadata": {},
   "outputs": [
    {
     "data": {
      "text/plain": [
       "True"
      ]
     },
     "execution_count": 2,
     "metadata": {},
     "output_type": "execute_result"
    }
   ],
   "source": [
    "load_dotenv()"
   ]
  },
  {
   "cell_type": "code",
   "execution_count": 3,
   "metadata": {},
   "outputs": [],
   "source": [
    "import os\n",
    "GOOGLE_API_KEY = os.getenv('GOOGLE_API_KEY')\n",
    "os.environ['GOOGLE_API_KEY'] = GOOGLE_API_KEY"
   ]
  },
  {
   "cell_type": "code",
   "execution_count": 4,
   "metadata": {},
   "outputs": [],
   "source": [
    "from langchain_google_genai import ChatGoogleGenerativeAI, GoogleGenerativeAIEmbeddings"
   ]
  },
  {
   "cell_type": "code",
   "execution_count": 5,
   "metadata": {},
   "outputs": [],
   "source": [
    "embedding = GoogleGenerativeAIEmbeddings(model = \"models/embedding-001\")\n",
    "llm = ChatGoogleGenerativeAI(model = \"gemini-1.0-pro\")"
   ]
  },
  {
   "cell_type": "code",
   "execution_count": 6,
   "metadata": {},
   "outputs": [],
   "source": [
    "from langchain import PromptTemplate"
   ]
  },
  {
   "cell_type": "code",
   "execution_count": 7,
   "metadata": {},
   "outputs": [],
   "source": [
    "template = \"Hi! I am learning {skill}, can you suggest me top 5 thing to learn?\\n\"\n",
    "prompt = PromptTemplate(template = template,input_variables=[\"skill\"])"
   ]
  },
  {
   "cell_type": "code",
   "execution_count": 8,
   "metadata": {},
   "outputs": [
    {
     "name": "stdout",
     "output_type": "stream",
     "text": [
      "input_variables=['skill'] input_types={} partial_variables={} template='Hi! I am learning {skill}, can you suggest me top 5 thing to learn?\\n'\n"
     ]
    }
   ],
   "source": [
    "print(prompt)"
   ]
  },
  {
   "cell_type": "code",
   "execution_count": 9,
   "metadata": {},
   "outputs": [],
   "source": [
    "from langchain import LLMChain"
   ]
  },
  {
   "cell_type": "code",
   "execution_count": 10,
   "metadata": {},
   "outputs": [
    {
     "name": "stderr",
     "output_type": "stream",
     "text": [
      "C:\\Users\\Asus\\AppData\\Local\\Temp\\ipykernel_10056\\2214571769.py:1: LangChainDeprecationWarning: The class `LLMChain` was deprecated in LangChain 0.1.17 and will be removed in 1.0. Use :meth:`~RunnableSequence, e.g., `prompt | llm`` instead.\n",
      "  llm_chain = LLMChain(llm = llm,prompt = prompt)\n"
     ]
    }
   ],
   "source": [
    "llm_chain = LLMChain(llm = llm,prompt = prompt)"
   ]
  },
  {
   "cell_type": "code",
   "execution_count": 11,
   "metadata": {},
   "outputs": [
    {
     "name": "stderr",
     "output_type": "stream",
     "text": [
      "C:\\Users\\Asus\\AppData\\Local\\Temp\\ipykernel_10056\\1988409311.py:1: LangChainDeprecationWarning: The method `Chain.run` was deprecated in langchain 0.1.0 and will be removed in 1.0. Use :meth:`~invoke` instead.\n",
      "  print(llm_chain.run(\"Machine Learning\"))\n"
     ]
    },
    {
     "name": "stdout",
     "output_type": "stream",
     "text": [
      "**Top 5 Essential Concepts for Machine Learning:**\n",
      "\n",
      "1. **Supervised Learning:** Understanding how machines learn from labeled datasets and make predictions.\n",
      "2. **Unsupervised Learning:** Exploring techniques for finding patterns and structures in unlabeled data.\n",
      "3. **Model Evaluation:** Assessing the performance of machine learning models using metrics such as accuracy, precision, and recall.\n",
      "4. **Feature Engineering:** Transforming raw data into meaningful features that enhance model performance.\n",
      "5. **Model Selection and Hyperparameter Tuning:** Selecting the best model for a specific task and optimizing its parameters for optimal results.\n"
     ]
    }
   ],
   "source": [
    "print(llm_chain.run(\"Machine Learning\"))"
   ]
  },
  {
   "cell_type": "code",
   "execution_count": 12,
   "metadata": {},
   "outputs": [
    {
     "name": "stdout",
     "output_type": "stream",
     "text": [
      "**Top 5 Essential Skills for Data Science:**\n",
      "\n",
      "1. **Programming:** Master programming languages like Python or R, which are widely used for data manipulation, analysis, and visualization.\n",
      "2. **Data Analysis and Manipulation:** Become proficient in techniques for exploring, cleaning, and transforming data using libraries like pandas, NumPy, and scikit-learn.\n",
      "3. **Statistics and Probability:** Understand the foundational concepts of statistics and probability, including hypothesis testing, regression analysis, and Bayesian inference.\n",
      "4. **Machine Learning:** Learn algorithms for supervised and unsupervised learning, such as linear regression, logistic regression, and clustering.\n",
      "5. **Data Visualization:** Develop skills in creating clear and informative visualizations using tools like Matplotlib, Seaborn, and Tableau to communicate insights effectively.\n"
     ]
    }
   ],
   "source": [
    "print(llm_chain.run({\"skill\":\"Data Science\"}))"
   ]
  },
  {
   "cell_type": "code",
   "execution_count": 13,
   "metadata": {},
   "outputs": [],
   "source": [
    "#Using LCEL\n",
    "chain = prompt | llm"
   ]
  },
  {
   "cell_type": "code",
   "execution_count": 14,
   "metadata": {},
   "outputs": [
    {
     "data": {
      "text/plain": [
       "AIMessage(content='**Top 5 Essential Concepts for Machine Learning Beginners:**\\n\\n1. **Supervised Learning:** Understanding how models learn from labeled data to make predictions.\\n2. **Unsupervised Learning:** Exploring techniques for discovering patterns and insights from unlabeled data.\\n3. **Model Selection and Evaluation:** Learning to select and evaluate models based on their performance on training and test data.\\n4. **Feature Engineering:** Transforming and preparing data to improve model performance.\\n5. **Algorithms:** Familiarizing yourself with common machine learning algorithms, such as linear regression, logistic regression, and decision trees.', additional_kwargs={}, response_metadata={'prompt_feedback': {'block_reason': 0, 'safety_ratings': []}, 'finish_reason': 'STOP', 'safety_ratings': [{'category': 'HARM_CATEGORY_SEXUALLY_EXPLICIT', 'probability': 'NEGLIGIBLE', 'blocked': False}, {'category': 'HARM_CATEGORY_HATE_SPEECH', 'probability': 'NEGLIGIBLE', 'blocked': False}, {'category': 'HARM_CATEGORY_HARASSMENT', 'probability': 'NEGLIGIBLE', 'blocked': False}, {'category': 'HARM_CATEGORY_DANGEROUS_CONTENT', 'probability': 'NEGLIGIBLE', 'blocked': False}]}, id='run-1c28ce70-8ecf-47b5-a7c7-28bb2f8f8f36-0', usage_metadata={'input_tokens': 21, 'output_tokens': 119, 'total_tokens': 140, 'input_token_details': {'cache_read': 0}})"
      ]
     },
     "execution_count": 14,
     "metadata": {},
     "output_type": "execute_result"
    }
   ],
   "source": [
    "chain.invoke(\"Machine Learning\")"
   ]
  },
  {
   "cell_type": "code",
   "execution_count": 15,
   "metadata": {},
   "outputs": [],
   "source": [
    "from langchain_core.output_parsers import StrOutputParser"
   ]
  },
  {
   "cell_type": "code",
   "execution_count": 16,
   "metadata": {},
   "outputs": [],
   "source": [
    "parser = StrOutputParser()"
   ]
  },
  {
   "cell_type": "code",
   "execution_count": 17,
   "metadata": {},
   "outputs": [],
   "source": [
    "chain = prompt | llm | parser"
   ]
  },
  {
   "cell_type": "code",
   "execution_count": 18,
   "metadata": {},
   "outputs": [
    {
     "data": {
      "text/plain": [
       "'**Top 5 Things to Learn for Machine Learning:**\\n\\n1. **Linear Algebra and Calculus:** These mathematical foundations are essential for understanding the underlying concepts of machine learning algorithms, such as matrix operations, gradient descent, and optimization.\\n\\n2. **Probability and Statistics:** Machine learning involves analyzing and modeling data, so a strong understanding of probability and statistics is crucial. This includes concepts like probability distributions, Bayesian inference, and hypothesis testing.\\n\\n3. **Programming Skills:** Proficiency in a programming language like Python or R is necessary for implementing and experimenting with machine learning algorithms. It enables you to manipulate data, build models, and evaluate their performance.\\n\\n4. **Machine Learning Algorithms:** Familiarize yourself with different machine learning algorithms, such as supervised learning (e.g., linear regression, support vector machines), unsupervised learning (e.g., clustering, anomaly detection), and ensemble methods (e.g., random forests, gradient boosting).\\n\\n5. **Data Preprocessing and Feature Engineering:** Real-world data often requires cleaning, transforming, and feature engineering to improve model performance. Learn techniques for handling missing values, outliers, and feature scaling.'"
      ]
     },
     "execution_count": 18,
     "metadata": {},
     "output_type": "execute_result"
    }
   ],
   "source": [
    "chain.invoke({\"skill\":\"Machine Learning\"})"
   ]
  },
  {
   "cell_type": "code",
   "execution_count": null,
   "metadata": {},
   "outputs": [],
   "source": []
  }
 ],
 "metadata": {
  "kernelspec": {
   "display_name": "myenv",
   "language": "python",
   "name": "python3"
  },
  "language_info": {
   "codemirror_mode": {
    "name": "ipython",
    "version": 3
   },
   "file_extension": ".py",
   "mimetype": "text/x-python",
   "name": "python",
   "nbconvert_exporter": "python",
   "pygments_lexer": "ipython3",
   "version": "3.10.9"
  }
 },
 "nbformat": 4,
 "nbformat_minor": 2
}
