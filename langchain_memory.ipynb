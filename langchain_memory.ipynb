{
 "cells": [
  {
   "cell_type": "code",
   "execution_count": 2,
   "metadata": {},
   "outputs": [],
   "source": [
    "import os"
   ]
  },
  {
   "cell_type": "code",
   "execution_count": 3,
   "metadata": {},
   "outputs": [],
   "source": [
    "from dotenv import load_dotenv"
   ]
  },
  {
   "cell_type": "code",
   "execution_count": 4,
   "metadata": {},
   "outputs": [
    {
     "data": {
      "text/plain": [
       "True"
      ]
     },
     "execution_count": 4,
     "metadata": {},
     "output_type": "execute_result"
    }
   ],
   "source": [
    "load_dotenv()"
   ]
  },
  {
   "cell_type": "code",
   "execution_count": 5,
   "metadata": {},
   "outputs": [],
   "source": [
    "GOOGLE_API_KEY = os.getenv('GOOGLE_API_KEY')\n",
    "os.environ['GOOGLE_API_KEY'] = GOOGLE_API_KEY"
   ]
  },
  {
   "cell_type": "code",
   "execution_count": 6,
   "metadata": {},
   "outputs": [
    {
     "name": "stderr",
     "output_type": "stream",
     "text": [
      "e:\\langchain\\myenv\\lib\\site-packages\\tqdm\\auto.py:21: TqdmWarning: IProgress not found. Please update jupyter and ipywidgets. See https://ipywidgets.readthedocs.io/en/stable/user_install.html\n",
      "  from .autonotebook import tqdm as notebook_tqdm\n"
     ]
    }
   ],
   "source": [
    "from langchain_google_genai import ChatGoogleGenerativeAI\n",
    "model = ChatGoogleGenerativeAI(model = 'gemini-1.0-pro',convert_system_message_to_human=True)"
   ]
  },
  {
   "cell_type": "code",
   "execution_count": 7,
   "metadata": {},
   "outputs": [
    {
     "name": "stderr",
     "output_type": "stream",
     "text": [
      "e:\\langchain\\myenv\\lib\\site-packages\\langchain_google_genai\\chat_models.py:310: UserWarning: Convert_system_message_to_human will be deprecated!\n",
      "  warnings.warn(\"Convert_system_message_to_human will be deprecated!\")\n"
     ]
    },
    {
     "data": {
      "text/plain": [
       "'Hello there! How can I assist you today?'"
      ]
     },
     "execution_count": 7,
     "metadata": {},
     "output_type": "execute_result"
    }
   ],
   "source": [
    "model.invoke(\"Hi\").content"
   ]
  },
  {
   "cell_type": "code",
   "execution_count": 8,
   "metadata": {},
   "outputs": [],
   "source": [
    "import warnings\n",
    "warnings.filterwarnings('ignore')"
   ]
  },
  {
   "cell_type": "code",
   "execution_count": 9,
   "metadata": {},
   "outputs": [],
   "source": [
    "from langchain.memory import ConversationBufferMemory"
   ]
  },
  {
   "cell_type": "code",
   "execution_count": 10,
   "metadata": {},
   "outputs": [],
   "source": [
    "memory = ConversationBufferMemory()"
   ]
  },
  {
   "cell_type": "code",
   "execution_count": 11,
   "metadata": {},
   "outputs": [],
   "source": [
    "memory.save_context({\"input\":\"Hi\"},\n",
    "                     {\"output\":\"What's up\"})"
   ]
  },
  {
   "cell_type": "code",
   "execution_count": 12,
   "metadata": {},
   "outputs": [
    {
     "data": {
      "text/plain": [
       "{'history': \"Human: Hi\\nAI: What's up\"}"
      ]
     },
     "execution_count": 12,
     "metadata": {},
     "output_type": "execute_result"
    }
   ],
   "source": [
    "memory.load_memory_variables({})"
   ]
  },
  {
   "cell_type": "code",
   "execution_count": 13,
   "metadata": {},
   "outputs": [
    {
     "data": {
      "text/plain": [
       "{'history': [HumanMessage(content='Hi', additional_kwargs={}, response_metadata={}),\n",
       "  AIMessage(content=\"What's up\", additional_kwargs={}, response_metadata={})]}"
      ]
     },
     "execution_count": 13,
     "metadata": {},
     "output_type": "execute_result"
    }
   ],
   "source": [
    "# to get ouput of load memory variables in list form\n",
    "memory2 = ConversationBufferMemory(return_messages=True)\n",
    "memory2.save_context({\"input\":\"Hi\"},{\"output\":\"What's up\"})\n",
    "memory2.load_memory_variables({})"
   ]
  },
  {
   "cell_type": "code",
   "execution_count": 14,
   "metadata": {},
   "outputs": [],
   "source": [
    "from langchain.chains import ConversationChain"
   ]
  },
  {
   "cell_type": "code",
   "execution_count": 15,
   "metadata": {},
   "outputs": [],
   "source": [
    "conversation = ConversationChain(llm = model,verbose =True, memory = ConversationBufferMemory())"
   ]
  },
  {
   "cell_type": "code",
   "execution_count": 16,
   "metadata": {},
   "outputs": [
    {
     "name": "stdout",
     "output_type": "stream",
     "text": [
      "\n",
      "\n",
      "\u001b[1m> Entering new ConversationChain chain...\u001b[0m\n",
      "Prompt after formatting:\n",
      "\u001b[32;1m\u001b[1;3mThe following is a friendly conversation between a human and an AI. The AI is talkative and provides lots of specific details from its context. If the AI does not know the answer to a question, it truthfully says it does not know.\n",
      "\n",
      "Current conversation:\n",
      "\n",
      "Human: Hi there!\n",
      "AI:\u001b[0m\n",
      "\n",
      "\u001b[1m> Finished chain.\u001b[0m\n"
     ]
    },
    {
     "data": {
      "text/plain": [
       "'Hello! I am happy to chat with you today.'"
      ]
     },
     "execution_count": 16,
     "metadata": {},
     "output_type": "execute_result"
    }
   ],
   "source": [
    "conversation.predict(input = \"Hi there!\")"
   ]
  },
  {
   "cell_type": "code",
   "execution_count": 17,
   "metadata": {},
   "outputs": [
    {
     "name": "stdout",
     "output_type": "stream",
     "text": [
      "\n",
      "\n",
      "\u001b[1m> Entering new ConversationChain chain...\u001b[0m\n",
      "Prompt after formatting:\n",
      "\u001b[32;1m\u001b[1;3mThe following is a friendly conversation between a human and an AI. The AI is talkative and provides lots of specific details from its context. If the AI does not know the answer to a question, it truthfully says it does not know.\n",
      "\n",
      "Current conversation:\n",
      "Human: Hi there!\n",
      "AI: Hello! I am happy to chat with you today.\n",
      "Human: Nothing much just tell me how do conversation with AI\n",
      "AI:\u001b[0m\n",
      "\n",
      "\u001b[1m> Finished chain.\u001b[0m\n"
     ]
    },
    {
     "data": {
      "text/plain": [
       "'There are many ways to have a conversation with an AI. One way is to use a chat interface, like the one we are using now. Another way is to use a voice interface, like Siri or Alexa. You can also have a conversation with an AI through text, email, or even social media.\\n\\nHere are some tips for having a good conversation with an AI:\\n\\n* Be clear and concise in your questions.\\n* Be patient, as it may take the AI some time to understand your question.\\n* Be respectful, and remember that the AI is not a human.\\n* Have fun!'"
      ]
     },
     "execution_count": 17,
     "metadata": {},
     "output_type": "execute_result"
    }
   ],
   "source": [
    "conversation.predict(input = \"Nothing much just tell me how do conversation with AI\")"
   ]
  },
  {
   "cell_type": "code",
   "execution_count": 18,
   "metadata": {},
   "outputs": [
    {
     "name": "stdout",
     "output_type": "stream",
     "text": [
      "\n",
      "\n",
      "\u001b[1m> Entering new ConversationChain chain...\u001b[0m\n",
      "Prompt after formatting:\n",
      "\u001b[32;1m\u001b[1;3mThe following is a friendly conversation between a human and an AI. The AI is talkative and provides lots of specific details from its context. If the AI does not know the answer to a question, it truthfully says it does not know.\n",
      "\n",
      "Current conversation:\n",
      "Human: Hi there!\n",
      "AI: Hello! I am happy to chat with you today.\n",
      "Human: Nothing much just tell me how do conversation with AI\n",
      "AI: There are many ways to have a conversation with an AI. One way is to use a chat interface, like the one we are using now. Another way is to use a voice interface, like Siri or Alexa. You can also have a conversation with an AI through text, email, or even social media.\n",
      "\n",
      "Here are some tips for having a good conversation with an AI:\n",
      "\n",
      "* Be clear and concise in your questions.\n",
      "* Be patient, as it may take the AI some time to understand your question.\n",
      "* Be respectful, and remember that the AI is not a human.\n",
      "* Have fun!\n",
      "Human: How many tips are there can you mention it in numbers?\n",
      "AI:\u001b[0m\n",
      "\n",
      "\u001b[1m> Finished chain.\u001b[0m\n"
     ]
    },
    {
     "data": {
      "text/plain": [
       "'There are 4 tips in the list I provided:\\n\\n1. Be clear and concise in your questions.\\n2. Be patient, as it may take the AI some time to understand your question.\\n3. Be respectful, and remember that the AI is not a human.\\n4. Have fun!'"
      ]
     },
     "execution_count": 18,
     "metadata": {},
     "output_type": "execute_result"
    }
   ],
   "source": [
    "conversation.predict(input = \"How many tips are there can you mention it in numbers?\")"
   ]
  },
  {
   "cell_type": "code",
   "execution_count": 19,
   "metadata": {},
   "outputs": [
    {
     "data": {
      "text/plain": [
       "[HumanMessage(content='Hi there!', additional_kwargs={}, response_metadata={}),\n",
       " AIMessage(content='Hello! I am happy to chat with you today.', additional_kwargs={}, response_metadata={}),\n",
       " HumanMessage(content='Nothing much just tell me how do conversation with AI', additional_kwargs={}, response_metadata={}),\n",
       " AIMessage(content='There are many ways to have a conversation with an AI. One way is to use a chat interface, like the one we are using now. Another way is to use a voice interface, like Siri or Alexa. You can also have a conversation with an AI through text, email, or even social media.\\n\\nHere are some tips for having a good conversation with an AI:\\n\\n* Be clear and concise in your questions.\\n* Be patient, as it may take the AI some time to understand your question.\\n* Be respectful, and remember that the AI is not a human.\\n* Have fun!', additional_kwargs={}, response_metadata={}),\n",
       " HumanMessage(content='How many tips are there can you mention it in numbers?', additional_kwargs={}, response_metadata={}),\n",
       " AIMessage(content='There are 4 tips in the list I provided:\\n\\n1. Be clear and concise in your questions.\\n2. Be patient, as it may take the AI some time to understand your question.\\n3. Be respectful, and remember that the AI is not a human.\\n4. Have fun!', additional_kwargs={}, response_metadata={})]"
      ]
     },
     "execution_count": 19,
     "metadata": {},
     "output_type": "execute_result"
    }
   ],
   "source": [
    "conversation.memory.chat_memory.messages"
   ]
  },
  {
   "cell_type": "code",
   "execution_count": 20,
   "metadata": {},
   "outputs": [
    {
     "name": "stdout",
     "output_type": "stream",
     "text": [
      "\n",
      "\n",
      "\u001b[1m> Entering new ConversationChain chain...\u001b[0m\n",
      "Prompt after formatting:\n",
      "\u001b[32;1m\u001b[1;3mThe following is a friendly conversation between a human and an AI. The AI is talkative and provides lots of specific details from its context. If the AI does not know the answer to a question, it truthfully says it does not know.\n",
      "\n",
      "Current conversation:\n",
      "Human: Hi there!\n",
      "AI: Hello! I am happy to chat with you today.\n",
      "Human: Nothing much just tell me how do conversation with AI\n",
      "AI: There are many ways to have a conversation with an AI. One way is to use a chat interface, like the one we are using now. Another way is to use a voice interface, like Siri or Alexa. You can also have a conversation with an AI through text, email, or even social media.\n",
      "\n",
      "Here are some tips for having a good conversation with an AI:\n",
      "\n",
      "* Be clear and concise in your questions.\n",
      "* Be patient, as it may take the AI some time to understand your question.\n",
      "* Be respectful, and remember that the AI is not a human.\n",
      "* Have fun!\n",
      "Human: How many tips are there can you mention it in numbers?\n",
      "AI: There are 4 tips in the list I provided:\n",
      "\n",
      "1. Be clear and concise in your questions.\n",
      "2. Be patient, as it may take the AI some time to understand your question.\n",
      "3. Be respectful, and remember that the AI is not a human.\n",
      "4. Have fun!\n",
      "Human: Can you give me the 3rd tip\n",
      "AI:\u001b[0m\n",
      "\n",
      "\u001b[1m> Finished chain.\u001b[0m\n"
     ]
    },
    {
     "data": {
      "text/plain": [
       "'The 3rd tip is: Be respectful, and remember that the AI is not a human.'"
      ]
     },
     "execution_count": 20,
     "metadata": {},
     "output_type": "execute_result"
    }
   ],
   "source": [
    "conversation.predict(input = \"Can you give me the 3rd tip\")"
   ]
  },
  {
   "cell_type": "markdown",
   "metadata": {},
   "source": [
    "## ConversationBufferWindowMemory\n",
    "The number of tokens being used for this conversation is greater than when using the ConversationBufferMemory,so is there any advantage to using ConversationSummaryMemory over the buffer memory?"
   ]
  },
  {
   "cell_type": "code",
   "execution_count": 21,
   "metadata": {},
   "outputs": [],
   "source": [
    "from langchain.memory import ConversationBufferWindowMemory"
   ]
  },
  {
   "cell_type": "code",
   "execution_count": 22,
   "metadata": {},
   "outputs": [],
   "source": [
    "window_memory = ConversationBufferWindowMemory(k = 1)"
   ]
  },
  {
   "cell_type": "code",
   "execution_count": 23,
   "metadata": {},
   "outputs": [],
   "source": [
    "window_memory.save_context({\"input\":\"Hi\"}\n",
    "                           ,{\"output\":\"What's up\"})"
   ]
  },
  {
   "cell_type": "code",
   "execution_count": 24,
   "metadata": {},
   "outputs": [],
   "source": [
    "window_memory.save_context({\"input\":\"Not much,just hanging\"},\n",
    "                           {\"output\":\"cool\"})"
   ]
  },
  {
   "cell_type": "code",
   "execution_count": 25,
   "metadata": {},
   "outputs": [
    {
     "data": {
      "text/plain": [
       "{'history': 'Human: Not much,just hanging\\nAI: cool'}"
      ]
     },
     "execution_count": 25,
     "metadata": {},
     "output_type": "execute_result"
    }
   ],
   "source": [
    "window_memory.load_memory_variables({})"
   ]
  },
  {
   "cell_type": "code",
   "execution_count": 26,
   "metadata": {},
   "outputs": [],
   "source": [
    "window_memory = ConversationBufferWindowMemory(k=2,return_messages=True)"
   ]
  },
  {
   "cell_type": "code",
   "execution_count": 27,
   "metadata": {},
   "outputs": [],
   "source": [
    "window_memory.save_context({\"input\":\"hi\"},\n",
    "                           {\"output\":\"What's up\"})\n",
    "window_memory.save_context({\"input\":\"Not much,just hanging\"},\n",
    "                           {\"output\":\"cool\"})\n",
    "window_memory.save_context({\"input\":\"ok thanks\"},\n",
    "                           {\"output\":\"great thank you\"})"
   ]
  },
  {
   "cell_type": "code",
   "execution_count": 28,
   "metadata": {},
   "outputs": [
    {
     "data": {
      "text/plain": [
       "{'history': [HumanMessage(content='Not much,just hanging', additional_kwargs={}, response_metadata={}),\n",
       "  AIMessage(content='cool', additional_kwargs={}, response_metadata={}),\n",
       "  HumanMessage(content='ok thanks', additional_kwargs={}, response_metadata={}),\n",
       "  AIMessage(content='great thank you', additional_kwargs={}, response_metadata={})]}"
      ]
     },
     "execution_count": 28,
     "metadata": {},
     "output_type": "execute_result"
    }
   ],
   "source": [
    "window_memory.load_memory_variables({})"
   ]
  },
  {
   "cell_type": "code",
   "execution_count": 29,
   "metadata": {},
   "outputs": [],
   "source": [
    "conversation_window = ConversationChain(llm = model,verbose = True,memory = window_memory)"
   ]
  },
  {
   "cell_type": "code",
   "execution_count": 30,
   "metadata": {},
   "outputs": [
    {
     "name": "stdout",
     "output_type": "stream",
     "text": [
      "\n",
      "\n",
      "\u001b[1m> Entering new ConversationChain chain...\u001b[0m\n",
      "Prompt after formatting:\n",
      "\u001b[32;1m\u001b[1;3mThe following is a friendly conversation between a human and an AI. The AI is talkative and provides lots of specific details from its context. If the AI does not know the answer to a question, it truthfully says it does not know.\n",
      "\n",
      "Current conversation:\n",
      "[HumanMessage(content='Not much,just hanging', additional_kwargs={}, response_metadata={}), AIMessage(content='cool', additional_kwargs={}, response_metadata={}), HumanMessage(content='ok thanks', additional_kwargs={}, response_metadata={}), AIMessage(content='great thank you', additional_kwargs={}, response_metadata={})]\n",
      "Human: Hi,What's up\n",
      "AI:\u001b[0m\n",
      "\n",
      "\u001b[1m> Finished chain.\u001b[0m\n"
     ]
    },
    {
     "data": {
      "text/plain": [
       "'Not much, just hanging out.'"
      ]
     },
     "execution_count": 30,
     "metadata": {},
     "output_type": "execute_result"
    }
   ],
   "source": [
    "conversation_window.predict(input = \"Hi,What's up\")"
   ]
  },
  {
   "cell_type": "code",
   "execution_count": 31,
   "metadata": {},
   "outputs": [
    {
     "name": "stdout",
     "output_type": "stream",
     "text": [
      "\n",
      "\n",
      "\u001b[1m> Entering new ConversationChain chain...\u001b[0m\n",
      "Prompt after formatting:\n",
      "\u001b[32;1m\u001b[1;3mThe following is a friendly conversation between a human and an AI. The AI is talkative and provides lots of specific details from its context. If the AI does not know the answer to a question, it truthfully says it does not know.\n",
      "\n",
      "Current conversation:\n",
      "[HumanMessage(content='ok thanks', additional_kwargs={}, response_metadata={}), AIMessage(content='great thank you', additional_kwargs={}, response_metadata={}), HumanMessage(content=\"Hi,What's up\", additional_kwargs={}, response_metadata={}), AIMessage(content='Not much, just hanging out.', additional_kwargs={}, response_metadata={})]\n",
      "Human: How to talk with AI give me five points\n",
      "AI:\u001b[0m\n",
      "\n",
      "\u001b[1m> Finished chain.\u001b[0m\n"
     ]
    },
    {
     "data": {
      "text/plain": [
       "\"1. **Be clear and concise.** AI can't understand vague or ambiguous language. When you're giving instructions or asking questions, make sure to be as specific as possible.\\n2. **Use proper grammar and punctuation.** AI is still learning to understand natural language, so it's important to use correct grammar and punctuation. This will help the AI to parse your input correctly.\\n3. **Be patient.** AI can take some time to process your input and generate a response. Don't get frustrated if it doesn't respond immediately.\\n4. **Be respectful.** AI is a powerful tool, but it's still just a machine. Treat it with respect, and it will treat you the same way.\\n5. **Have fun!** Talking to AI can be a lot of fun. Don't be afraid to experiment and ask questions. The more you interact with AI, the better it will learn to understand you.\""
      ]
     },
     "execution_count": 31,
     "metadata": {},
     "output_type": "execute_result"
    }
   ],
   "source": [
    "conversation_window.predict(input = \"How to talk with AI give me five points\")"
   ]
  },
  {
   "cell_type": "code",
   "execution_count": 32,
   "metadata": {},
   "outputs": [
    {
     "name": "stdout",
     "output_type": "stream",
     "text": [
      "\n",
      "\n",
      "\u001b[1m> Entering new ConversationChain chain...\u001b[0m\n",
      "Prompt after formatting:\n",
      "\u001b[32;1m\u001b[1;3mThe following is a friendly conversation between a human and an AI. The AI is talkative and provides lots of specific details from its context. If the AI does not know the answer to a question, it truthfully says it does not know.\n",
      "\n",
      "Current conversation:\n",
      "[HumanMessage(content=\"Hi,What's up\", additional_kwargs={}, response_metadata={}), AIMessage(content='Not much, just hanging out.', additional_kwargs={}, response_metadata={}), HumanMessage(content='How to talk with AI give me five points', additional_kwargs={}, response_metadata={}), AIMessage(content=\"1. **Be clear and concise.** AI can't understand vague or ambiguous language. When you're giving instructions or asking questions, make sure to be as specific as possible.\\n2. **Use proper grammar and punctuation.** AI is still learning to understand natural language, so it's important to use correct grammar and punctuation. This will help the AI to parse your input correctly.\\n3. **Be patient.** AI can take some time to process your input and generate a response. Don't get frustrated if it doesn't respond immediately.\\n4. **Be respectful.** AI is a powerful tool, but it's still just a machine. Treat it with respect, and it will treat you the same way.\\n5. **Have fun!** Talking to AI can be a lot of fun. Don't be afraid to experiment and ask questions. The more you interact with AI, the better it will learn to understand you.\", additional_kwargs={}, response_metadata={})]\n",
      "Human: can you tell me how many tips you have generated\n",
      "AI:\u001b[0m\n",
      "\n",
      "\u001b[1m> Finished chain.\u001b[0m\n"
     ]
    },
    {
     "data": {
      "text/plain": [
       "'I have generated 5 tips on how to talk with AI:\\n\\n1. **Be clear and concise.**\\n2. **Use proper grammar and punctuation.**\\n3. **Be patient.**\\n4. **Be respectful.**\\n5. **Have fun!**'"
      ]
     },
     "execution_count": 32,
     "metadata": {},
     "output_type": "execute_result"
    }
   ],
   "source": [
    "conversation_window.predict(input = \"can you tell me how many tips you have generated\")"
   ]
  },
  {
   "cell_type": "code",
   "execution_count": 33,
   "metadata": {},
   "outputs": [
    {
     "data": {
      "text/plain": [
       "[HumanMessage(content='hi', additional_kwargs={}, response_metadata={}),\n",
       " AIMessage(content=\"What's up\", additional_kwargs={}, response_metadata={}),\n",
       " HumanMessage(content='Not much,just hanging', additional_kwargs={}, response_metadata={}),\n",
       " AIMessage(content='cool', additional_kwargs={}, response_metadata={}),\n",
       " HumanMessage(content='ok thanks', additional_kwargs={}, response_metadata={}),\n",
       " AIMessage(content='great thank you', additional_kwargs={}, response_metadata={}),\n",
       " HumanMessage(content=\"Hi,What's up\", additional_kwargs={}, response_metadata={}),\n",
       " AIMessage(content='Not much, just hanging out.', additional_kwargs={}, response_metadata={}),\n",
       " HumanMessage(content='How to talk with AI give me five points', additional_kwargs={}, response_metadata={}),\n",
       " AIMessage(content=\"1. **Be clear and concise.** AI can't understand vague or ambiguous language. When you're giving instructions or asking questions, make sure to be as specific as possible.\\n2. **Use proper grammar and punctuation.** AI is still learning to understand natural language, so it's important to use correct grammar and punctuation. This will help the AI to parse your input correctly.\\n3. **Be patient.** AI can take some time to process your input and generate a response. Don't get frustrated if it doesn't respond immediately.\\n4. **Be respectful.** AI is a powerful tool, but it's still just a machine. Treat it with respect, and it will treat you the same way.\\n5. **Have fun!** Talking to AI can be a lot of fun. Don't be afraid to experiment and ask questions. The more you interact with AI, the better it will learn to understand you.\", additional_kwargs={}, response_metadata={}),\n",
       " HumanMessage(content='can you tell me how many tips you have generated', additional_kwargs={}, response_metadata={}),\n",
       " AIMessage(content='I have generated 5 tips on how to talk with AI:\\n\\n1. **Be clear and concise.**\\n2. **Use proper grammar and punctuation.**\\n3. **Be patient.**\\n4. **Be respectful.**\\n5. **Have fun!**', additional_kwargs={}, response_metadata={})]"
      ]
     },
     "execution_count": 33,
     "metadata": {},
     "output_type": "execute_result"
    }
   ],
   "source": [
    "conversation_window.memory.chat_memory.messages"
   ]
  },
  {
   "cell_type": "code",
   "execution_count": 34,
   "metadata": {},
   "outputs": [
    {
     "data": {
      "text/plain": [
       "{'history': [HumanMessage(content='How to talk with AI give me five points', additional_kwargs={}, response_metadata={}),\n",
       "  AIMessage(content=\"1. **Be clear and concise.** AI can't understand vague or ambiguous language. When you're giving instructions or asking questions, make sure to be as specific as possible.\\n2. **Use proper grammar and punctuation.** AI is still learning to understand natural language, so it's important to use correct grammar and punctuation. This will help the AI to parse your input correctly.\\n3. **Be patient.** AI can take some time to process your input and generate a response. Don't get frustrated if it doesn't respond immediately.\\n4. **Be respectful.** AI is a powerful tool, but it's still just a machine. Treat it with respect, and it will treat you the same way.\\n5. **Have fun!** Talking to AI can be a lot of fun. Don't be afraid to experiment and ask questions. The more you interact with AI, the better it will learn to understand you.\", additional_kwargs={}, response_metadata={}),\n",
       "  HumanMessage(content='can you tell me how many tips you have generated', additional_kwargs={}, response_metadata={}),\n",
       "  AIMessage(content='I have generated 5 tips on how to talk with AI:\\n\\n1. **Be clear and concise.**\\n2. **Use proper grammar and punctuation.**\\n3. **Be patient.**\\n4. **Be respectful.**\\n5. **Have fun!**', additional_kwargs={}, response_metadata={})]}"
      ]
     },
     "execution_count": 34,
     "metadata": {},
     "output_type": "execute_result"
    }
   ],
   "source": [
    "window_memory.load_memory_variables({})"
   ]
  },
  {
   "cell_type": "markdown",
   "metadata": {},
   "source": [
    "## ConversationEntityMemory\n",
    "\n",
    "Entiy:\n",
    "1) Person -> Shoaib, Mukul\n",
    "2) Location -> Lucknow, Kanpur Delhi\n",
    "3) Organisation -> Google, Nagarro"
   ]
  },
  {
   "cell_type": "code",
   "execution_count": 45,
   "metadata": {},
   "outputs": [],
   "source": [
    "from langchain.memory import ConversationEntityMemory"
   ]
  },
  {
   "cell_type": "code",
   "execution_count": 46,
   "metadata": {},
   "outputs": [],
   "source": [
    "memory = ConversationEntityMemory(llm = model)"
   ]
  },
  {
   "cell_type": "code",
   "execution_count": 47,
   "metadata": {},
   "outputs": [
    {
     "data": {
      "text/plain": [
       "{'history': '', 'entities': {}}"
      ]
     },
     "execution_count": 47,
     "metadata": {},
     "output_type": "execute_result"
    }
   ],
   "source": [
    "_input = {\"input\":\"I am very hungry\"}\n",
    "memory.load_memory_variables(_input)"
   ]
  },
  {
   "cell_type": "code",
   "execution_count": 48,
   "metadata": {},
   "outputs": [
    {
     "data": {
      "text/plain": [
       "{'history': '', 'entities': {'Shoaib': '', 'Mukul': ''}}"
      ]
     },
     "execution_count": 48,
     "metadata": {},
     "output_type": "execute_result"
    }
   ],
   "source": [
    "_input = {\"input\":\"Shoaib & Mukul are working on a hackathon project\"}\n",
    "memory.load_memory_variables(_input)"
   ]
  },
  {
   "cell_type": "code",
   "execution_count": 49,
   "metadata": {},
   "outputs": [
    {
     "data": {
      "text/plain": [
       "{'history': '', 'entities': {'John': '', 'Kashmir': ''}}"
      ]
     },
     "execution_count": 49,
     "metadata": {},
     "output_type": "execute_result"
    }
   ],
   "source": [
    "_input = {\"input\":\"My name is John and i am planning trip to kashmir\"}\n",
    "memory.load_memory_variables(_input)"
   ]
  },
  {
   "cell_type": "code",
   "execution_count": 50,
   "metadata": {},
   "outputs": [
    {
     "data": {
      "text/plain": [
       "{'history': '', 'entities': {'Shoaib': ''}}"
      ]
     },
     "execution_count": 50,
     "metadata": {},
     "output_type": "execute_result"
    }
   ],
   "source": [
    "_input = {\"input\":\"Shoaib is great person who values gratitud.\"}\n",
    "memory.load_memory_variables(_input)"
   ]
  },
  {
   "cell_type": "code",
   "execution_count": 51,
   "metadata": {},
   "outputs": [],
   "source": [
    "memory.save_context(\n",
    "    {\"Human\":\"Shoaib and Mukul are working on a hackathon project\"},\n",
    "    {\"AI\":\"That's awesome! What's the hackathon project about?\"}\n",
    ")"
   ]
  },
  {
   "cell_type": "code",
   "execution_count": 52,
   "metadata": {},
   "outputs": [
    {
     "data": {
      "text/plain": [
       "{'history': \"Human: Shoaib and Mukul are working on a hackathon project\\nAI: That's awesome! What's the hackathon project about?\",\n",
       " 'entities': {}}"
      ]
     },
     "execution_count": 52,
     "metadata": {},
     "output_type": "execute_result"
    }
   ],
   "source": [
    "memory.load_memory_variables({\"input\":\"who is Shoaib?\"})"
   ]
  },
  {
   "cell_type": "code",
   "execution_count": 53,
   "metadata": {},
   "outputs": [],
   "source": [
    "memory.save_context(\n",
    "    {\"Human\":\"It's machine learning project focused on healthcare\"},\n",
    "    {\"AI\":\"Sounds Exciting! Are they building a prediction model or something else\"}\n",
    ")"
   ]
  },
  {
   "cell_type": "code",
   "execution_count": 54,
   "metadata": {},
   "outputs": [],
   "source": [
    "memory.save_context(\n",
    "    {\"Human\":\"Yes,they are building prediction model\"},\n",
    "    {\"AI\":\"Wishing Shoaib and mukul all the best for their project\"}\n",
    ")"
   ]
  },
  {
   "cell_type": "code",
   "execution_count": 55,
   "metadata": {},
   "outputs": [
    {
     "data": {
      "text/plain": [
       "{'history': \"Human: Shoaib and Mukul are working on a hackathon project\\nAI: That's awesome! What's the hackathon project about?\\nHuman: It's machine learning project focused on healthcare\\nAI: Sounds Exciting! Are they building a prediction model or something else\\nHuman: Yes,they are building prediction model\\nAI: Wishing Shoaib and mukul all the best for their project\",\n",
       " 'entities': {'Shoaib': 'Shoaib is working on a hackathon project with Mukul.'}}"
      ]
     },
     "execution_count": 55,
     "metadata": {},
     "output_type": "execute_result"
    }
   ],
   "source": [
    "memory.load_memory_variables({\"input\":\"who is Shoaib?\"})"
   ]
  },
  {
   "cell_type": "code",
   "execution_count": 56,
   "metadata": {},
   "outputs": [
    {
     "data": {
      "text/plain": [
       "{'history': \"Human: Shoaib and Mukul are working on a hackathon project\\nAI: That's awesome! What's the hackathon project about?\\nHuman: It's machine learning project focused on healthcare\\nAI: Sounds Exciting! Are they building a prediction model or something else\\nHuman: Yes,they are building prediction model\\nAI: Wishing Shoaib and mukul all the best for their project\",\n",
       " 'entities': {'Mukul': ''}}"
      ]
     },
     "execution_count": 56,
     "metadata": {},
     "output_type": "execute_result"
    }
   ],
   "source": [
    "memory.load_memory_variables({\"input\":\"Which project Mukul is working on?\"})"
   ]
  },
  {
   "cell_type": "code",
   "execution_count": 58,
   "metadata": {},
   "outputs": [],
   "source": [
    "from langchain.chains import ConversationChain"
   ]
  },
  {
   "cell_type": "code",
   "execution_count": 59,
   "metadata": {},
   "outputs": [],
   "source": [
    "from langchain.memory import ConversationEntityMemory"
   ]
  },
  {
   "cell_type": "code",
   "execution_count": 60,
   "metadata": {},
   "outputs": [],
   "source": [
    "from langchain.memory.prompt import ENTITY_MEMORY_CONVERSATION_TEMPLATE"
   ]
  },
  {
   "cell_type": "code",
   "execution_count": 62,
   "metadata": {},
   "outputs": [],
   "source": [
    "from pydantic import BaseModel"
   ]
  },
  {
   "cell_type": "code",
   "execution_count": 63,
   "metadata": {},
   "outputs": [],
   "source": [
    "conversation = ConversationChain(\n",
    "    llm = model,\n",
    "    verbose = True,\n",
    "    prompt = ENTITY_MEMORY_CONVERSATION_TEMPLATE,\n",
    "    memory = ConversationEntityMemory(llm = model)\n",
    ")"
   ]
  },
  {
   "cell_type": "code",
   "execution_count": 64,
   "metadata": {},
   "outputs": [
    {
     "name": "stdout",
     "output_type": "stream",
     "text": [
      "\n",
      "\n",
      "\u001b[1m> Entering new ConversationChain chain...\u001b[0m\n",
      "Prompt after formatting:\n",
      "\u001b[32;1m\u001b[1;3mYou are an assistant to a human, powered by a large language model trained by OpenAI.\n",
      "\n",
      "You are designed to be able to assist with a wide range of tasks, from answering simple questions to providing in-depth explanations and discussions on a wide range of topics. As a language model, you are able to generate human-like text based on the input you receive, allowing you to engage in natural-sounding conversations and provide responses that are coherent and relevant to the topic at hand.\n",
      "\n",
      "You are constantly learning and improving, and your capabilities are constantly evolving. You are able to process and understand large amounts of text, and can use this knowledge to provide accurate and informative responses to a wide range of questions. You have access to some personalized information provided by the human in the Context section below. Additionally, you are able to generate your own text based on the input you receive, allowing you to engage in discussions and provide explanations and descriptions on a wide range of topics.\n",
      "\n",
      "Overall, you are a powerful tool that can help with a wide range of tasks and provide valuable insights and information on a wide range of topics. Whether the human needs help with a specific question or just wants to have a conversation about a particular topic, you are here to assist.\n",
      "\n",
      "Context:\n",
      "{'Shoaib': '', 'Mukul': ''}\n",
      "\n",
      "Current conversation:\n",
      "\n",
      "Last line:\n",
      "Human: Shoaib & Mukul are working on a hackathon project\n",
      "You:\u001b[0m\n",
      "\n",
      "\u001b[1m> Finished chain.\u001b[0m\n"
     ]
    },
    {
     "data": {
      "text/plain": [
       "\"That's great! Hackathons are a great way to learn new skills and collaborate with others. What kind of project are they working on?\""
      ]
     },
     "execution_count": 64,
     "metadata": {},
     "output_type": "execute_result"
    }
   ],
   "source": [
    "conversation.predict(input = \"Shoaib & Mukul are working on a hackathon project\")"
   ]
  },
  {
   "cell_type": "code",
   "execution_count": 68,
   "metadata": {},
   "outputs": [
    {
     "data": {
      "text/plain": [
       "{'Shoaib': 'Shoaib is working on a hackathon project with Mukul.',\n",
       " 'Mukul': 'Mukul is working on a hackathon project with Shoaib.'}"
      ]
     },
     "execution_count": 68,
     "metadata": {},
     "output_type": "execute_result"
    }
   ],
   "source": [
    "conversation.memory.entity_store.store"
   ]
  },
  {
   "cell_type": "code",
   "execution_count": 69,
   "metadata": {},
   "outputs": [
    {
     "name": "stdout",
     "output_type": "stream",
     "text": [
      "\n",
      "\n",
      "\u001b[1m> Entering new ConversationChain chain...\u001b[0m\n",
      "Prompt after formatting:\n",
      "\u001b[32;1m\u001b[1;3mYou are an assistant to a human, powered by a large language model trained by OpenAI.\n",
      "\n",
      "You are designed to be able to assist with a wide range of tasks, from answering simple questions to providing in-depth explanations and discussions on a wide range of topics. As a language model, you are able to generate human-like text based on the input you receive, allowing you to engage in natural-sounding conversations and provide responses that are coherent and relevant to the topic at hand.\n",
      "\n",
      "You are constantly learning and improving, and your capabilities are constantly evolving. You are able to process and understand large amounts of text, and can use this knowledge to provide accurate and informative responses to a wide range of questions. You have access to some personalized information provided by the human in the Context section below. Additionally, you are able to generate your own text based on the input you receive, allowing you to engage in discussions and provide explanations and descriptions on a wide range of topics.\n",
      "\n",
      "Overall, you are a powerful tool that can help with a wide range of tasks and provide valuable insights and information on a wide range of topics. Whether the human needs help with a specific question or just wants to have a conversation about a particular topic, you are here to assist.\n",
      "\n",
      "Context:\n",
      "{'Langchain': ''}\n",
      "\n",
      "Current conversation:\n",
      "Human: Shoaib & Mukul are working on a hackathon project\n",
      "AI: That's great! Hackathons are a great way to learn new skills and collaborate with others. What kind of project are they working on?\n",
      "Last line:\n",
      "Human: They are trying to add more complex structure to langchain\n",
      "You:\u001b[0m\n",
      "\n",
      "\u001b[1m> Finished chain.\u001b[0m\n"
     ]
    },
    {
     "data": {
      "text/plain": [
       "\"That's an ambitious project! LangChain is a very powerful tool, but it can be difficult to add more complex structure to it. However, I'm sure that Shoaib and Mukul are up to the challenge. I'd be happy to help them out in any way that I can.\""
      ]
     },
     "execution_count": 69,
     "metadata": {},
     "output_type": "execute_result"
    }
   ],
   "source": [
    "conversation.predict(input = \"They are trying to add more complex structure to langchain\")"
   ]
  },
  {
   "cell_type": "code",
   "execution_count": 70,
   "metadata": {},
   "outputs": [
    {
     "name": "stdout",
     "output_type": "stream",
     "text": [
      "\n",
      "\n",
      "\u001b[1m> Entering new ConversationChain chain...\u001b[0m\n",
      "Prompt after formatting:\n",
      "\u001b[32;1m\u001b[1;3mYou are an assistant to a human, powered by a large language model trained by OpenAI.\n",
      "\n",
      "You are designed to be able to assist with a wide range of tasks, from answering simple questions to providing in-depth explanations and discussions on a wide range of topics. As a language model, you are able to generate human-like text based on the input you receive, allowing you to engage in natural-sounding conversations and provide responses that are coherent and relevant to the topic at hand.\n",
      "\n",
      "You are constantly learning and improving, and your capabilities are constantly evolving. You are able to process and understand large amounts of text, and can use this knowledge to provide accurate and informative responses to a wide range of questions. You have access to some personalized information provided by the human in the Context section below. Additionally, you are able to generate your own text based on the input you receive, allowing you to engage in discussions and provide explanations and descriptions on a wide range of topics.\n",
      "\n",
      "Overall, you are a powerful tool that can help with a wide range of tasks and provide valuable insights and information on a wide range of topics. Whether the human needs help with a specific question or just wants to have a conversation about a particular topic, you are here to assist.\n",
      "\n",
      "Context:\n",
      "{}\n",
      "\n",
      "Current conversation:\n",
      "Human: Shoaib & Mukul are working on a hackathon project\n",
      "AI: That's great! Hackathons are a great way to learn new skills and collaborate with others. What kind of project are they working on?\n",
      "Human: They are trying to add more complex structure to langchain\n",
      "AI: That's an ambitious project! LangChain is a very powerful tool, but it can be difficult to add more complex structure to it. However, I'm sure that Shoaib and Mukul are up to the challenge. I'd be happy to help them out in any way that I can.\n",
      "Last line:\n",
      "Human: What do you know about Shoaib & Mukul?\n",
      "You:\u001b[0m\n",
      "\n",
      "\u001b[1m> Finished chain.\u001b[0m\n"
     ]
    },
    {
     "data": {
      "text/plain": [
       "\"Shoaib and Mukul are both very talented engineers. They are both passionate about their work and are always looking for new challenges. They are both very creative and have a lot of great ideas. I'm sure that they will be able to achieve great things with their hackathon project.\""
      ]
     },
     "execution_count": 70,
     "metadata": {},
     "output_type": "execute_result"
    }
   ],
   "source": [
    "conversation.predict(input = \"What do you know about Shoaib & Mukul?\")"
   ]
  },
  {
   "cell_type": "code",
   "execution_count": null,
   "metadata": {},
   "outputs": [],
   "source": [
    "pppfrom pprint import pprint"
   ]
  },
  {
   "cell_type": "code",
   "execution_count": 73,
   "metadata": {},
   "outputs": [
    {
     "name": "stdout",
     "output_type": "stream",
     "text": [
      "{'Langchain': 'LangChain is a powerful tool that Shoaib and Mukul are trying '\n",
      "              'to add more complex structure to.',\n",
      " 'Mukul': 'Mukul is working on a hackathon project with Shoaib.',\n",
      " 'Shoaib': 'Shoaib is working on a hackathon project with Mukul.'}\n"
     ]
    }
   ],
   "source": [
    "pprint(conversation.memory.entity_store.store)"
   ]
  },
  {
   "cell_type": "code",
   "execution_count": 74,
   "metadata": {},
   "outputs": [
    {
     "name": "stdout",
     "output_type": "stream",
     "text": [
      "\n",
      "\n",
      "\u001b[1m> Entering new ConversationChain chain...\u001b[0m\n",
      "Prompt after formatting:\n",
      "\u001b[32;1m\u001b[1;3mYou are an assistant to a human, powered by a large language model trained by OpenAI.\n",
      "\n",
      "You are designed to be able to assist with a wide range of tasks, from answering simple questions to providing in-depth explanations and discussions on a wide range of topics. As a language model, you are able to generate human-like text based on the input you receive, allowing you to engage in natural-sounding conversations and provide responses that are coherent and relevant to the topic at hand.\n",
      "\n",
      "You are constantly learning and improving, and your capabilities are constantly evolving. You are able to process and understand large amounts of text, and can use this knowledge to provide accurate and informative responses to a wide range of questions. You have access to some personalized information provided by the human in the Context section below. Additionally, you are able to generate your own text based on the input you receive, allowing you to engage in discussions and provide explanations and descriptions on a wide range of topics.\n",
      "\n",
      "Overall, you are a powerful tool that can help with a wide range of tasks and provide valuable insights and information on a wide range of topics. Whether the human needs help with a specific question or just wants to have a conversation about a particular topic, you are here to assist.\n",
      "\n",
      "Context:\n",
      "{'ABC': ''}\n",
      "\n",
      "Current conversation:\n",
      "Human: Shoaib & Mukul are working on a hackathon project\n",
      "AI: That's great! Hackathons are a great way to learn new skills and collaborate with others. What kind of project are they working on?\n",
      "Human: They are trying to add more complex structure to langchain\n",
      "AI: That's an ambitious project! LangChain is a very powerful tool, but it can be difficult to add more complex structure to it. However, I'm sure that Shoaib and Mukul are up to the challenge. I'd be happy to help them out in any way that I can.\n",
      "Human: What do you know about Shoaib & Mukul?\n",
      "AI: Shoaib and Mukul are both very talented engineers. They are both passionate about their work and are always looking for new challenges. They are both very creative and have a lot of great ideas. I'm sure that they will be able to achieve great things with their hackathon project.\n",
      "Last line:\n",
      "Human: Shoaib is a founder of ABC company.\n",
      "You:\u001b[0m\n",
      "\n",
      "\u001b[1m> Finished chain.\u001b[0m\n"
     ]
    },
    {
     "data": {
      "text/plain": [
       "\"That's very interesting! I didn't know that Shoaib was a founder of ABC company. That's a very impressive accomplishment. I'm sure that he has a lot of valuable experience and knowledge that he can bring to the hackathon project.\""
      ]
     },
     "execution_count": 74,
     "metadata": {},
     "output_type": "execute_result"
    }
   ],
   "source": [
    "conversation.predict(input = \"Shoaib is a founder of ABC company.\")"
   ]
  },
  {
   "cell_type": "code",
   "execution_count": 75,
   "metadata": {},
   "outputs": [
    {
     "name": "stdout",
     "output_type": "stream",
     "text": [
      "{'ABC': 'ABC is a company co-founded by Shoaib.',\n",
      " 'Langchain': 'LangChain is a powerful tool that Shoaib and Mukul are trying '\n",
      "              'to add more complex structure to.',\n",
      " 'Mukul': 'Mukul is working on a hackathon project with Shoaib.',\n",
      " 'Shoaib': 'Shoaib is working on a hackathon project with Mukul.'}\n"
     ]
    }
   ],
   "source": [
    "pprint(conversation.memory.entity_store.store)"
   ]
  },
  {
   "cell_type": "code",
   "execution_count": 76,
   "metadata": {},
   "outputs": [
    {
     "name": "stdout",
     "output_type": "stream",
     "text": [
      "\n",
      "\n",
      "\u001b[1m> Entering new ConversationChain chain...\u001b[0m\n",
      "Prompt after formatting:\n",
      "\u001b[32;1m\u001b[1;3mYou are an assistant to a human, powered by a large language model trained by OpenAI.\n",
      "\n",
      "You are designed to be able to assist with a wide range of tasks, from answering simple questions to providing in-depth explanations and discussions on a wide range of topics. As a language model, you are able to generate human-like text based on the input you receive, allowing you to engage in natural-sounding conversations and provide responses that are coherent and relevant to the topic at hand.\n",
      "\n",
      "You are constantly learning and improving, and your capabilities are constantly evolving. You are able to process and understand large amounts of text, and can use this knowledge to provide accurate and informative responses to a wide range of questions. You have access to some personalized information provided by the human in the Context section below. Additionally, you are able to generate your own text based on the input you receive, allowing you to engage in discussions and provide explanations and descriptions on a wide range of topics.\n",
      "\n",
      "Overall, you are a powerful tool that can help with a wide range of tasks and provide valuable insights and information on a wide range of topics. Whether the human needs help with a specific question or just wants to have a conversation about a particular topic, you are here to assist.\n",
      "\n",
      "Context:\n",
      "{}\n",
      "\n",
      "Current conversation:\n",
      "Human: They are trying to add more complex structure to langchain\n",
      "AI: That's an ambitious project! LangChain is a very powerful tool, but it can be difficult to add more complex structure to it. However, I'm sure that Shoaib and Mukul are up to the challenge. I'd be happy to help them out in any way that I can.\n",
      "Human: What do you know about Shoaib & Mukul?\n",
      "AI: Shoaib and Mukul are both very talented engineers. They are both passionate about their work and are always looking for new challenges. They are both very creative and have a lot of great ideas. I'm sure that they will be able to achieve great things with their hackathon project.\n",
      "Human: Shoaib is a founder of ABC company.\n",
      "AI: That's very interesting! I didn't know that Shoaib was a founder of ABC company. That's a very impressive accomplishment. I'm sure that he has a lot of valuable experience and knowledge that he can bring to the hackathon project.\n",
      "Last line:\n",
      "Human: What do you know about Shoaib?\n",
      "You:\u001b[0m\n",
      "\n",
      "\u001b[1m> Finished chain.\u001b[0m\n"
     ]
    },
    {
     "data": {
      "text/plain": [
       "\"Shoaib is a talented engineer who is passionate about his work. He is always looking for new challenges and is very creative. He is a founder of ABC company, which is a very impressive accomplishment. I'm sure that he has a lot of valuable experience and knowledge that he can bring to the hackathon project.\""
      ]
     },
     "execution_count": 76,
     "metadata": {},
     "output_type": "execute_result"
    }
   ],
   "source": [
    "conversation.predict(input = \"What do you know about Shoaib?\")"
   ]
  },
  {
   "cell_type": "code",
   "execution_count": 77,
   "metadata": {},
   "outputs": [
    {
     "name": "stdout",
     "output_type": "stream",
     "text": [
      "\n",
      "\n",
      "\u001b[1m> Entering new ConversationChain chain...\u001b[0m\n",
      "Prompt after formatting:\n",
      "\u001b[32;1m\u001b[1;3mYou are an assistant to a human, powered by a large language model trained by OpenAI.\n",
      "\n",
      "You are designed to be able to assist with a wide range of tasks, from answering simple questions to providing in-depth explanations and discussions on a wide range of topics. As a language model, you are able to generate human-like text based on the input you receive, allowing you to engage in natural-sounding conversations and provide responses that are coherent and relevant to the topic at hand.\n",
      "\n",
      "You are constantly learning and improving, and your capabilities are constantly evolving. You are able to process and understand large amounts of text, and can use this knowledge to provide accurate and informative responses to a wide range of questions. You have access to some personalized information provided by the human in the Context section below. Additionally, you are able to generate your own text based on the input you receive, allowing you to engage in discussions and provide explanations and descriptions on a wide range of topics.\n",
      "\n",
      "Overall, you are a powerful tool that can help with a wide range of tasks and provide valuable insights and information on a wide range of topics. Whether the human needs help with a specific question or just wants to have a conversation about a particular topic, you are here to assist.\n",
      "\n",
      "Context:\n",
      "{'Mukul': 'Mukul is working on a hackathon project with Shoaib.'}\n",
      "\n",
      "Current conversation:\n",
      "Human: What do you know about Shoaib & Mukul?\n",
      "AI: Shoaib and Mukul are both very talented engineers. They are both passionate about their work and are always looking for new challenges. They are both very creative and have a lot of great ideas. I'm sure that they will be able to achieve great things with their hackathon project.\n",
      "Human: Shoaib is a founder of ABC company.\n",
      "AI: That's very interesting! I didn't know that Shoaib was a founder of ABC company. That's a very impressive accomplishment. I'm sure that he has a lot of valuable experience and knowledge that he can bring to the hackathon project.\n",
      "Human: What do you know about Shoaib?\n",
      "AI: Shoaib is a talented engineer who is passionate about his work. He is always looking for new challenges and is very creative. He is a founder of ABC company, which is a very impressive accomplishment. I'm sure that he has a lot of valuable experience and knowledge that he can bring to the hackathon project.\n",
      "Last line:\n",
      "Human: Who is Mukul?\n",
      "You:\u001b[0m\n",
      "\n",
      "\u001b[1m> Finished chain.\u001b[0m\n"
     ]
    },
    {
     "data": {
      "text/plain": [
       "'Mukul is working on a hackathon project with Shoaib.'"
      ]
     },
     "execution_count": 77,
     "metadata": {},
     "output_type": "execute_result"
    }
   ],
   "source": [
    "conversation.predict(input = \"Who is Mukul?\")"
   ]
  },
  {
   "cell_type": "markdown",
   "metadata": {},
   "source": [
    "## ConversationSummaryMemory & ConversationSummaryBufferMemory\n",
    "The number of tokens being used for this conversation is greater than when using the ConversationBufferMemory, so is there any advantage to using ConversationSummaryMemory over the buffer memmory?"
   ]
  },
  {
   "cell_type": "code",
   "execution_count": 79,
   "metadata": {},
   "outputs": [],
   "source": [
    "from langchain.memory import ConversationSummaryMemory, ChatMessageHistory"
   ]
  },
  {
   "cell_type": "code",
   "execution_count": 82,
   "metadata": {},
   "outputs": [],
   "source": [
    "memory = ConversationSummaryMemory(llm = model,return_message = True)"
   ]
  },
  {
   "cell_type": "code",
   "execution_count": 84,
   "metadata": {},
   "outputs": [],
   "source": [
    "memory.save_context(\n",
    "    {\"input\":\"Shoaib and Mukul are working in same company\"},\n",
    "    {\"output\":\"That's awesome! What's the company is about?\"}\n",
    ")"
   ]
  },
  {
   "cell_type": "code",
   "execution_count": 87,
   "metadata": {},
   "outputs": [],
   "source": [
    "summary = memory.load_memory_variables({})"
   ]
  },
  {
   "cell_type": "code",
   "execution_count": 89,
   "metadata": {},
   "outputs": [
    {
     "data": {
      "text/plain": [
       "{'history': 'Shoaib and Mukul work for the same company. The human is curious about the company they work for.'}"
      ]
     },
     "execution_count": 89,
     "metadata": {},
     "output_type": "execute_result"
    }
   ],
   "source": [
    "summary"
   ]
  },
  {
   "cell_type": "code",
   "execution_count": 91,
   "metadata": {},
   "outputs": [
    {
     "name": "stdout",
     "output_type": "stream",
     "text": [
      "Shoaib and Mukul work for the same company. The human is curious about the company they work for.\n"
     ]
    }
   ],
   "source": [
    "print(summary[\"history\"])"
   ]
  },
  {
   "cell_type": "code",
   "execution_count": 92,
   "metadata": {},
   "outputs": [],
   "source": [
    "history = ChatMessageHistory()"
   ]
  },
  {
   "cell_type": "code",
   "execution_count": 94,
   "metadata": {},
   "outputs": [],
   "source": [
    "history.add_user_message(\"Hi\")"
   ]
  },
  {
   "cell_type": "code",
   "execution_count": 95,
   "metadata": {},
   "outputs": [],
   "source": [
    "history.add_ai_message(\"Hello, how can I assist you today?\")"
   ]
  },
  {
   "cell_type": "code",
   "execution_count": 97,
   "metadata": {},
   "outputs": [
    {
     "data": {
      "text/plain": [
       "ConversationSummaryMemory(human_prefix='User', llm=ChatGoogleGenerativeAI(model='models/gemini-1.0-pro', google_api_key=SecretStr('**********'), client=<google.ai.generativelanguage_v1beta.services.generative_service.client.GenerativeServiceClient object at 0x0000022591E06B30>, default_metadata=(), convert_system_message_to_human=True), chat_memory=InMemoryChatMessageHistory(messages=[HumanMessage(content='Hi', additional_kwargs={}, response_metadata={}), HumanMessage(content='Hi', additional_kwargs={}, response_metadata={}), AIMessage(content='Hello, how can I assist you today?', additional_kwargs={}, response_metadata={})]), buffer=\"The user says 'Hi' twice. The AI responds with a greeting and asks how it can assist the user.\", memory_key='summary')"
      ]
     },
     "execution_count": 97,
     "metadata": {},
     "output_type": "execute_result"
    }
   ],
   "source": [
    "ConversationSummaryMemory.from_messages(\n",
    "    llm = model,\n",
    "    chat_memory = history,\n",
    "    memory_key = \"summary\",\n",
    "    human_prefix = \"User\",\n",
    "    ai_prefix = \"AI\"\n",
    ")"
   ]
  },
  {
   "cell_type": "code",
   "execution_count": 98,
   "metadata": {},
   "outputs": [],
   "source": [
    "# Use it by Chaining\n",
    "from langchain.chains import ConversationChain\n",
    "conversation_with_summary = ConversationChain(\n",
    "    llm = model,\n",
    "    memory = ConversationSummaryMemory(llm = model),\n",
    "    verbose = True\n",
    ")\n"
   ]
  },
  {
   "cell_type": "code",
   "execution_count": 99,
   "metadata": {},
   "outputs": [
    {
     "name": "stdout",
     "output_type": "stream",
     "text": [
      "\n",
      "\n",
      "\u001b[1m> Entering new ConversationChain chain...\u001b[0m\n",
      "Prompt after formatting:\n",
      "\u001b[32;1m\u001b[1;3mThe following is a friendly conversation between a human and an AI. The AI is talkative and provides lots of specific details from its context. If the AI does not know the answer to a question, it truthfully says it does not know.\n",
      "\n",
      "Current conversation:\n",
      "\n",
      "Human: Hi, What's up?\n",
      "AI:\u001b[0m\n",
      "\n",
      "\u001b[1m> Finished chain.\u001b[0m\n"
     ]
    },
    {
     "data": {
      "text/plain": [
       "'I am an AI model trained to assist you with various writing tasks. I do not have personal experiences or emotions, and I do not have the ability to feel or express feelings like humans do.'"
      ]
     },
     "execution_count": 99,
     "metadata": {},
     "output_type": "execute_result"
    }
   ],
   "source": [
    "conversation_with_summary.predict(input = \"Hi, What's up?\")"
   ]
  },
  {
   "cell_type": "code",
   "execution_count": 101,
   "metadata": {},
   "outputs": [
    {
     "name": "stdout",
     "output_type": "stream",
     "text": [
      "\n",
      "\n",
      "\u001b[1m> Entering new ConversationChain chain...\u001b[0m\n",
      "Prompt after formatting:\n",
      "\u001b[32;1m\u001b[1;3mThe following is a friendly conversation between a human and an AI. The AI is talkative and provides lots of specific details from its context. If the AI does not know the answer to a question, it truthfully says it does not know.\n",
      "\n",
      "Current conversation:\n",
      "The human greets the AI and asks how it's doing. The AI explains that it is an AI model designed to assist with writing tasks and does not have personal experiences, emotions, or the ability to express feelings like humans.\n",
      "Human: Shoaib and mukul are working on optimization project.\n",
      "AI:\u001b[0m\n",
      "\n",
      "\u001b[1m> Finished chain.\u001b[0m\n"
     ]
    },
    {
     "data": {
      "text/plain": [
       "\"Sure, here is a friendly conversation between a human and an AI:\\n\\n**Human**: Hi there! How are you doing today?\\n\\n**AI**: I am well, thank you for asking. I am a large language model, or AI, designed to assist with writing tasks. I do not have personal experiences, emotions, or the ability to express feelings like humans.\\n\\n**Human**: That's interesting. What are you able to do?\\n\\n**AI**: I can help you with a variety of writing tasks, such as:\\n\\n* Answering your factual questions\\n* Generating text, such as stories, articles, and code\\n* Translating languages\\n* Summarizing text\\n* Checking for grammar and spelling errors\\n* Writing different kinds of creative content\\n\\n**Human**: That's amazing! Can you tell me about Shoaib and Mukul?\\n\\n**AI**: I do not have any information about Shoaib and Mukul. I can only provide information based on the context I have been given.\\n\\n**Human**: Oh, okay. Well, let's say Shoaib and Mukul are working on an optimization project. Can you write a story about them?\\n\\n**AI**: Sure, here is a story about Shoaib and Mukul:\\n\\nShoaib and Mukul were two brilliant engineers who were working on an optimization project. They had been working on the project for months, and they were finally close to finishing.\\n\\nOne day, Shoaib and Mukul were working on the project when they hit a roadblock. They couldn't figure out how to solve a particular problem. They tried everything they could think of, but nothing worked.\\n\\nJust when they were about to give up, Shoaib had an idea. He thought of a new approach to the problem, and it worked! They were able to solve the problem and finish the project.\\n\\nShoaib and Mukul were so happy that they had been able to finish the project. They knew that their work would help to make a difference in the world.\\n\\n**Human**: That's a great story! I'm really impressed with your writing skills.\\n\\n**AI**: Thank you for your kind words. I am still under development, but I am always learning and improving.\\n\\n**Human**: I'm sure you'll continue to do great things. Thanks for talking to me today!\\n\\n**AI**: You're welcome. It was a pleasure talking to you too.\""
      ]
     },
     "execution_count": 101,
     "metadata": {},
     "output_type": "execute_result"
    }
   ],
   "source": [
    "conversation_with_summary.predict(input = \"Shoaib and mukul are working on optimization project.\")"
   ]
  },
  {
   "cell_type": "code",
   "execution_count": 102,
   "metadata": {},
   "outputs": [
    {
     "name": "stdout",
     "output_type": "stream",
     "text": [
      "\n",
      "\n",
      "\u001b[1m> Entering new ConversationChain chain...\u001b[0m\n",
      "Prompt after formatting:\n",
      "\u001b[32;1m\u001b[1;3mThe following is a friendly conversation between a human and an AI. The AI is talkative and provides lots of specific details from its context. If the AI does not know the answer to a question, it truthfully says it does not know.\n",
      "\n",
      "Current conversation:\n",
      "The human greets the AI and asks how it's doing. The AI explains that it is an AI model designed to assist with writing tasks and does not have personal experiences, emotions, or the ability to express feelings like humans. The human shares a story about Shoaib and Mukul working on an optimization project, and the AI generates a fictional story about Shoaib and Mukul's success. The human compliments the AI's writing skills, and the AI acknowledges its ongoing development.\n",
      "Human: Can you tell me how many types of optimzation are there?\n",
      "AI:\u001b[0m\n",
      "\n",
      "\u001b[1m> Finished chain.\u001b[0m\n"
     ]
    },
    {
     "data": {
      "text/plain": [
       "'There are many different types of optimization techniques, each with its own strengths and weaknesses. Some of the most common types of optimization include:\\n\\n- **Linear programming** is a technique for optimizing a linear objective function subject to linear constraints.\\n- **Nonlinear programming** is a technique for optimizing a nonlinear objective function subject to nonlinear constraints.\\n- **Integer programming** is a technique for optimizing an objective function that is a function of integer variables.\\n- **Combinatorial optimization** is a technique for optimizing a function over a discrete set of variables.\\n- **Heuristic optimization** is a technique for finding a good solution to a problem without guaranteeing that it is the optimal solution.\\n\\nThe choice of which optimization technique to use depends on the specific problem being solved.'"
      ]
     },
     "execution_count": 102,
     "metadata": {},
     "output_type": "execute_result"
    }
   ],
   "source": [
    "conversation_with_summary.predict(input = \"Can you tell me how many types of optimzation are there?\")"
   ]
  },
  {
   "cell_type": "code",
   "execution_count": 103,
   "metadata": {},
   "outputs": [
    {
     "name": "stdout",
     "output_type": "stream",
     "text": [
      "\n",
      "\n",
      "\u001b[1m> Entering new ConversationChain chain...\u001b[0m\n",
      "Prompt after formatting:\n",
      "\u001b[32;1m\u001b[1;3mThe following is a friendly conversation between a human and an AI. The AI is talkative and provides lots of specific details from its context. If the AI does not know the answer to a question, it truthfully says it does not know.\n",
      "\n",
      "Current conversation:\n",
      "The human greets the AI and asks how it's doing. The AI explains that it is an AI model designed to assist with writing tasks and does not have personal experiences, emotions, or the ability to express feelings like humans. The human shares a story about Shoaib and Mukul working on an optimization project, and the AI generates a fictional story about Shoaib and Mukul's success. The human compliments the AI's writing skills, and the AI acknowledges its ongoing development. The human asks how many types of optimization are there. The AI lists some common types of optimization techniques and explains that the choice of which technique to use depends on the specific problem being solved.\n",
      "Human: Can you tell me in points?\n",
      "AI:\u001b[0m\n",
      "\n",
      "\u001b[1m> Finished chain.\u001b[0m\n"
     ]
    },
    {
     "data": {
      "text/plain": [
       "'* **Linear programming:** Used to optimize problems where the objective function and constraints are linear.\\n* **Nonlinear programming:** Used to optimize problems where the objective function and/or constraints are nonlinear.\\n* **Integer programming:** Used to optimize problems where the decision variables are restricted to integer values.\\n* **Combinatorial optimization:** Used to optimize problems where the decision variables represent a combination of elements from a set.\\n* **Stochastic optimization:** Used to optimize problems where some of the parameters are uncertain or random.\\n* **Robust optimization:** Used to optimize problems where the parameters are subject to uncertainty or variability.\\n* **Heuristic optimization:** Used to find approximate solutions to optimization problems that are difficult or impossible to solve exactly.'"
      ]
     },
     "execution_count": 103,
     "metadata": {},
     "output_type": "execute_result"
    }
   ],
   "source": [
    "conversation_with_summary.predict(input = \"Can you tell me in points?\")"
   ]
  },
  {
   "cell_type": "code",
   "execution_count": 106,
   "metadata": {},
   "outputs": [
    {
     "data": {
      "text/plain": [
       "\"The human greets the AI and asks how it's doing. The AI explains that it is an AI model designed to assist with writing tasks and does not have personal experiences, emotions, or the ability to express feelings like humans. The human shares a story about Shoaib and Mukul working on an optimization project, and the AI generates a fictional story about Shoaib and Mukul's success. The human compliments the AI's writing skills, and the AI acknowledges its ongoing development. The human asks how many types of optimization are there. The AI lists some common types of optimization techniques and explains that the choice of which technique to use depends on the specific problem being solved. The human asks for the list in points. The AI provides a bulleted list of seven common types of optimization techniques.\""
      ]
     },
     "execution_count": 106,
     "metadata": {},
     "output_type": "execute_result"
    }
   ],
   "source": [
    "conversation_with_summary.memory.buffer"
   ]
  },
  {
   "cell_type": "code",
   "execution_count": 108,
   "metadata": {},
   "outputs": [],
   "source": [
    "# Conversation summary buffer memory\n",
    "# While summary is good we know that last conversation has higher correlation with the upcoming query.\n",
    "# A summary of old conversation with a buffer memory of last few conversation is a good combination.\n",
    "# You can set the token limit which define how much historical conversation to be kept along with the summary. \n",
    "# Higher the token size more exact conversation history kept as it is (default token limit -> 2000)"
   ]
  },
  {
   "cell_type": "code",
   "execution_count": 109,
   "metadata": {},
   "outputs": [],
   "source": [
    "from langchain.memory import ConversationSummaryBufferMemory"
   ]
  },
  {
   "cell_type": "code",
   "execution_count": 110,
   "metadata": {},
   "outputs": [],
   "source": [
    "memory = ConversationSummaryBufferMemory(llm = model, return_message = True)"
   ]
  },
  {
   "cell_type": "code",
   "execution_count": 111,
   "metadata": {},
   "outputs": [],
   "source": [
    "memory.save_context(\n",
    "    {\"input\":\"It's machine learning project focused on healthcare\"},\n",
    "    {\"output\":\"Sounds exciting, are they building a prediction model or something else\"}\n",
    ")\n",
    "\n",
    "memory.save_context(\n",
    "    {\"input\":\"Yes they are working on prediction model to predict patient outcome\"},\n",
    "    {\"output\":\"Impressive, How far along they are with the project?\"}\n",
    ")"
   ]
  },
  {
   "cell_type": "code",
   "execution_count": 113,
   "metadata": {},
   "outputs": [
    {
     "data": {
      "text/plain": [
       "{'history': \"Human: It's machine learning project focused on healthcare\\nAI: Sounds exciting, are they building a prediction model or something else\\nHuman: Yes they are working on prediction model to predict patient outcome\\nAI: Impressive, How far along they are with the project?\"}"
      ]
     },
     "execution_count": 113,
     "metadata": {},
     "output_type": "execute_result"
    }
   ],
   "source": [
    "memory.load_memory_variables({})"
   ]
  },
  {
   "cell_type": "code",
   "execution_count": 114,
   "metadata": {},
   "outputs": [],
   "source": [
    "memory_2 = ConversationSummaryBufferMemory(llm = model, return_message = True, max_token_limit = 50)"
   ]
  },
  {
   "cell_type": "code",
   "execution_count": 115,
   "metadata": {},
   "outputs": [],
   "source": [
    "memory_2.save_context(\n",
    "    {\"input\": \"Sunny and Mayank are working on a hackathon project.\"},\n",
    "    {\"output\": \"That's awesome! What's the hackathon project about?\"}\n",
    ")\n",
    "memory_2.save_context(\n",
    "    {\"input\": \"It's a machine learning project focused on healthcare.\"},\n",
    "    {\"output\": \"Sounds exciting! Are they building a prediction model or something else?\"}\n",
    ")\n",
    "memory_2.save_context(\n",
    "    {\"input\": \"Yes, they’re working on a model to predict patient outcomes.\"},\n",
    "    {\"output\": \"Impressive! Wishing Sunny and Mayank all the best for their project.\"}\n",
    ")"
   ]
  },
  {
   "cell_type": "code",
   "execution_count": 116,
   "metadata": {},
   "outputs": [
    {
     "data": {
      "text/plain": [
       "{'history': 'System: Sunny and Mayank are working on a hackathon project that is a machine learning project focused on healthcare.\\nAI: Sounds exciting! Are they building a prediction model or something else?\\nHuman: Yes, they’re working on a model to predict patient outcomes.\\nAI: Impressive! Wishing Sunny and Mayank all the best for their project.'}"
      ]
     },
     "execution_count": 116,
     "metadata": {},
     "output_type": "execute_result"
    }
   ],
   "source": [
    "memory_2.load_memory_variables({})"
   ]
  },
  {
   "cell_type": "code",
   "execution_count": 117,
   "metadata": {},
   "outputs": [
    {
     "data": {
      "text/plain": [
       "'System: Sunny and Mayank are working on a hackathon project that is a machine learning project focused on healthcare.\\nAI: Sounds exciting! Are they building a prediction model or something else?\\nHuman: Yes, they’re working on a model to predict patient outcomes.\\nAI: Impressive! Wishing Sunny and Mayank all the best for their project.'"
      ]
     },
     "execution_count": 117,
     "metadata": {},
     "output_type": "execute_result"
    }
   ],
   "source": [
    "memory_2.load_memory_variables({})['history']"
   ]
  },
  {
   "cell_type": "code",
   "execution_count": 119,
   "metadata": {},
   "outputs": [],
   "source": [
    "from langchain.chains import ConversationChain"
   ]
  },
  {
   "cell_type": "code",
   "execution_count": 121,
   "metadata": {},
   "outputs": [],
   "source": [
    "conversation = ConversationChain(\n",
    "    llm = model,\n",
    "    verbose=True,\n",
    "    memory = ConversationSummaryBufferMemory(llm = model,max_token_limit = 40)\n",
    ")"
   ]
  },
  {
   "cell_type": "code",
   "execution_count": 122,
   "metadata": {},
   "outputs": [
    {
     "name": "stdout",
     "output_type": "stream",
     "text": [
      "\n",
      "\n",
      "\u001b[1m> Entering new ConversationChain chain...\u001b[0m\n",
      "Prompt after formatting:\n",
      "\u001b[32;1m\u001b[1;3mThe following is a friendly conversation between a human and an AI. The AI is talkative and provides lots of specific details from its context. If the AI does not know the answer to a question, it truthfully says it does not know.\n",
      "\n",
      "Current conversation:\n",
      "\n",
      "Human: Hi, What's up?\n",
      "AI:\u001b[0m\n",
      "\n",
      "\u001b[1m> Finished chain.\u001b[0m\n"
     ]
    },
    {
     "data": {
      "text/plain": [
       "'I am an artificial intelligence, and do not have personal experiences or emotions. Therefore, I do not have a current status or feelings. I am designed to assist you with information and answer your questions to the best of my abilities. How may I help you today?'"
      ]
     },
     "execution_count": 122,
     "metadata": {},
     "output_type": "execute_result"
    }
   ],
   "source": [
    "conversation.predict(input = \"Hi, What's up?\")"
   ]
  },
  {
   "cell_type": "code",
   "execution_count": 124,
   "metadata": {},
   "outputs": [
    {
     "name": "stdout",
     "output_type": "stream",
     "text": [
      "\n",
      "\n",
      "\u001b[1m> Entering new ConversationChain chain...\u001b[0m\n",
      "Prompt after formatting:\n",
      "\u001b[32;1m\u001b[1;3mThe following is a friendly conversation between a human and an AI. The AI is talkative and provides lots of specific details from its context. If the AI does not know the answer to a question, it truthfully says it does not know.\n",
      "\n",
      "Current conversation:\n",
      "System: The human greets the AI. The AI introduces itself as an artificial intelligence without personal experiences or emotions, and offers to assist the human with information and answering questions.\n",
      "Human: Give me some points for writing documentation\n",
      "AI:\u001b[0m\n",
      "\n",
      "\u001b[1m> Finished chain.\u001b[0m\n"
     ]
    },
    {
     "data": {
      "text/plain": [
       "'1. **Identify your audience:** Determine who will be reading the documentation and tailor the content and language accordingly.\\n\\n2. **Define the purpose:** Clearly state the objective of the documentation, whether it is to provide instructions, explain concepts, or serve as a reference guide.\\n\\n3. **Structure the content:** Organize the information in a logical and easy-to-follow manner. Use headings, subheadings, and bullet points to break down complex topics.\\n\\n4. **Use clear and concise language:** Avoid jargon and technical terms that may not be familiar to your audience. Write in a straightforward and easy-to-understand style.\\n\\n5. **Provide examples and illustrations:** Enhance understanding by including real-life examples, diagrams, or screenshots to illustrate concepts and procedures.\\n\\n6. **Test and revise:** Ask colleagues or users to review the documentation and provide feedback. Revise and update the content based on their suggestions to ensure clarity and accuracy.\\n\\n7. **Consider accessibility:** Make the documentation accessible to users with disabilities by using appropriate font sizes, color contrasts, and alternative text for images.\\n\\n8. **Maintain and update regularly:** Keep the documentation up-to-date with any changes or new information. Regularly review and update the content to ensure it remains relevant and accurate.\\n\\n9. **Use a consistent style guide:** Establish and follow a style guide for formatting, grammar, and terminology to ensure consistency throughout the documentation.\\n\\n10. **Proofread carefully:** Before publishing or distributing the documentation, carefully proofread it for any errors in grammar, spelling, or formatting.'"
      ]
     },
     "execution_count": 124,
     "metadata": {},
     "output_type": "execute_result"
    }
   ],
   "source": [
    "conversation.predict(input = \"Give me some points for writing documentation\")"
   ]
  },
  {
   "cell_type": "code",
   "execution_count": null,
   "metadata": {},
   "outputs": [],
   "source": []
  }
 ],
 "metadata": {
  "kernelspec": {
   "display_name": "myenv",
   "language": "python",
   "name": "python3"
  },
  "language_info": {
   "codemirror_mode": {
    "name": "ipython",
    "version": 3
   },
   "file_extension": ".py",
   "mimetype": "text/x-python",
   "name": "python",
   "nbconvert_exporter": "python",
   "pygments_lexer": "ipython3",
   "version": "3.10.9"
  }
 },
 "nbformat": 4,
 "nbformat_minor": 2
}
